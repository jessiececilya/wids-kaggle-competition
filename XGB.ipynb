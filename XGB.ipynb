{
  "nbformat": 4,
  "nbformat_minor": 0,
  "metadata": {
    "colab": {
      "name": "XGB",
      "provenance": [],
      "collapsed_sections": [],
      "authorship_tag": "ABX9TyOanFYiEfKgiOLHnAc6Ncw/",
      "include_colab_link": true
    },
    "kernelspec": {
      "name": "python3",
      "display_name": "Python 3"
    }
  },
  "cells": [
    {
      "cell_type": "markdown",
      "metadata": {
        "id": "view-in-github",
        "colab_type": "text"
      },
      "source": [
        "<a href=\"https://colab.research.google.com/github/jessiececilya/Projects/blob/main/XGB.ipynb\" target=\"_parent\"><img src=\"https://colab.research.google.com/assets/colab-badge.svg\" alt=\"Open In Colab\"/></a>"
      ]
    },
    {
      "cell_type": "code",
      "metadata": {
        "id": "Rss6L_ouvgRw"
      },
      "source": [
        "import pandas as pd\r\n",
        "import numpy as np\r\n",
        "from sklearn.metrics import accuracy_score  #for accuracy_score\r\n",
        "from sklearn.model_selection import KFold #for K-fold cross validation\r\n",
        "from sklearn.model_selection import cross_val_score #score evaluation\r\n",
        "from sklearn.model_selection import cross_val_predict #prediction\r\n",
        "from sklearn.metrics import confusion_matrix #for confusion matrix\r\n",
        "\r\n",
        "from xgboost import XGBClassifier\r\n",
        "from sklearn.model_selection import GridSearchCV"
      ],
      "execution_count": null,
      "outputs": []
    },
    {
      "cell_type": "code",
      "metadata": {
        "id": "ovIRmwB6vnTy"
      },
      "source": [
        "train= pd.read_csv(\"https://raw.githubusercontent.com/jessiececilya/ML-Data/main/WiDS/TrainingWiDS2021.csv\")"
      ],
      "execution_count": null,
      "outputs": []
    },
    {
      "cell_type": "code",
      "metadata": {
        "id": "P0qlqnevvrhd"
      },
      "source": [
        "predict= pd.read_csv('https://raw.githubusercontent.com/jessiececilya/ML-Data/main/WiDS/UnlabeledWiDS2021.csv')"
      ],
      "execution_count": null,
      "outputs": []
    },
    {
      "cell_type": "code",
      "metadata": {
        "id": "0zQ-0Q34vwFs"
      },
      "source": [
        "trainx= train.drop(['diabetes_mellitus','Unnamed: 0','encounter_id','hospital_id','icu_id'],axis=1)"
      ],
      "execution_count": null,
      "outputs": []
    },
    {
      "cell_type": "code",
      "metadata": {
        "id": "lb34-j6hwDlr"
      },
      "source": [
        "trainy= train['diabetes_mellitus']"
      ],
      "execution_count": null,
      "outputs": []
    },
    {
      "cell_type": "code",
      "metadata": {
        "colab": {
          "base_uri": "https://localhost:8080/"
        },
        "id": "6RQOIaDXwOV8",
        "outputId": "acca053b-8401-4972-a823-0b5029739726"
      },
      "source": [
        "trainy.head()"
      ],
      "execution_count": null,
      "outputs": [
        {
          "output_type": "execute_result",
          "data": {
            "text/plain": [
              "0    1\n",
              "1    1\n",
              "2    0\n",
              "3    0\n",
              "4    0\n",
              "Name: diabetes_mellitus, dtype: int64"
            ]
          },
          "metadata": {
            "tags": []
          },
          "execution_count": 7
        }
      ]
    },
    {
      "cell_type": "code",
      "metadata": {
        "id": "mhJN1T-xwuEG"
      },
      "source": [
        "cate= ['ethnicity',\r\n",
        " 'gender',\r\n",
        " 'hospital_admit_source',\r\n",
        " 'icu_admit_source',\r\n",
        " 'icu_stay_type',\r\n",
        " 'icu_type']\r\n"
      ],
      "execution_count": null,
      "outputs": []
    },
    {
      "cell_type": "code",
      "metadata": {
        "id": "50-LWM8ZwuJV"
      },
      "source": [
        "trainx= pd.get_dummies(trainx, columns= cate)\r\n",
        "# #Label encoder\r\n",
        "# from sklearn.preprocessing import LabelEncoder\r\n",
        "# le = LabelEncoder()\r\n",
        "# for ob in cate:\r\n",
        "#     trainx[ob] = le.fit_transform(trainx[ob].astype(str))\r\n",
        "#     predict[ob] = le.fit_transform(predict[ob].astype(str))\r\n"
      ],
      "execution_count": null,
      "outputs": []
    },
    {
      "cell_type": "code",
      "metadata": {
        "colab": {
          "base_uri": "https://localhost:8080/"
        },
        "id": "NazsuJvIwuMW",
        "outputId": "85bb50a7-8dce-40a9-e015-449f08de6e7d"
      },
      "source": [
        "trainx.columns"
      ],
      "execution_count": null,
      "outputs": [
        {
          "output_type": "execute_result",
          "data": {
            "text/plain": [
              "Index(['age', 'bmi', 'elective_surgery', 'height', 'pre_icu_los_days',\n",
              "       'readmission_status', 'weight', 'albumin_apache', 'apache_2_diagnosis',\n",
              "       'apache_3j_diagnosis',\n",
              "       ...\n",
              "       'icu_stay_type_readmit', 'icu_stay_type_transfer', 'icu_type_CCU-CTICU',\n",
              "       'icu_type_CSICU', 'icu_type_CTICU', 'icu_type_Cardiac ICU',\n",
              "       'icu_type_MICU', 'icu_type_Med-Surg ICU', 'icu_type_Neuro ICU',\n",
              "       'icu_type_SICU'],\n",
              "      dtype='object', length=209)"
            ]
          },
          "metadata": {
            "tags": []
          },
          "execution_count": 11
        }
      ]
    },
    {
      "cell_type": "code",
      "metadata": {
        "id": "oHz1eCDHwmtJ"
      },
      "source": [
        "pred= predict.drop(['Unnamed: 0','encounter_id','hospital_id','icu_id'],axis=1)"
      ],
      "execution_count": null,
      "outputs": []
    },
    {
      "cell_type": "code",
      "metadata": {
        "id": "cYi26NZ_wUpn"
      },
      "source": [
        "\r\n"
      ],
      "execution_count": null,
      "outputs": []
    },
    {
      "cell_type": "code",
      "metadata": {
        "id": "f09PPR4ilXYo"
      },
      "source": [
        "# Save the entire model as a SavedModel.\r\n",
        "# !mkdir -p saved_model\r\n",
        "# modelf.save('saved_model/my_model')"
      ],
      "execution_count": null,
      "outputs": []
    },
    {
      "cell_type": "code",
      "metadata": {
        "id": "UgCpWvpHzofG"
      },
      "source": [
        "pred= pd.get_dummies(pred, columns= cate)"
      ],
      "execution_count": null,
      "outputs": []
    },
    {
      "cell_type": "code",
      "metadata": {
        "colab": {
          "base_uri": "https://localhost:8080/"
        },
        "id": "JfqiePD_5EeB",
        "outputId": "6b5baa99-d548-40c9-cf32-39f5415f2825"
      },
      "source": [
        "set(pred.columns)-set(trainx.columns)\r\n"
      ],
      "execution_count": null,
      "outputs": [
        {
          "output_type": "execute_result",
          "data": {
            "text/plain": [
              "set()"
            ]
          },
          "metadata": {
            "tags": []
          },
          "execution_count": 14
        }
      ]
    },
    {
      "cell_type": "code",
      "metadata": {
        "id": "06eOi-W9yFSH"
      },
      "source": [
        "#pred= pd.get_dummies(pred, columns= cate)"
      ],
      "execution_count": null,
      "outputs": []
    },
    {
      "cell_type": "code",
      "metadata": {
        "colab": {
          "base_uri": "https://localhost:8080/"
        },
        "id": "sfBktVm0yO9V",
        "outputId": "d7ee0ed0-5bbb-49c1-f543-23668308f647"
      },
      "source": [
        "set(trainx.columns)- set(pred.columns)"
      ],
      "execution_count": null,
      "outputs": [
        {
          "output_type": "execute_result",
          "data": {
            "text/plain": [
              "set()"
            ]
          },
          "metadata": {
            "tags": []
          },
          "execution_count": 16
        }
      ]
    },
    {
      "cell_type": "code",
      "metadata": {
        "id": "w9ztLqs9yZyy"
      },
      "source": [
        "addcols= ['hospital_admit_source_Acute Care/Floor', 'hospital_admit_source_ICU', 'hospital_admit_source_Observation', 'hospital_admit_source_Other', 'hospital_admit_source_PACU']\r\n",
        "for e in addcols:\r\n",
        "  pred[''+e]=0"
      ],
      "execution_count": null,
      "outputs": []
    },
    {
      "cell_type": "code",
      "metadata": {
        "colab": {
          "base_uri": "https://localhost:8080/"
        },
        "id": "tVJZR4dy0hvi",
        "outputId": "ffafc872-d38b-4b06-ec08-f66ef35979b2"
      },
      "source": [
        "model= XGBClassifier()\r\n",
        "params = {\r\n",
        "    \"learning_rate\" :[0.1],\r\n",
        "    \"max_depth\" : [5],\r\n",
        "    \"n_estimators\" : [1000]\r\n",
        "}\r\n",
        "\r\n",
        "modelf = GridSearchCV(model,params, cv=2, scoring=\"accuracy\", n_jobs= -1, verbose = 1)\r\n",
        "\r\n",
        "x=modelf.fit(trainx,trainy)\r\n",
        "output1=x.predict_proba(pred[trainx.columns])"
      ],
      "execution_count": null,
      "outputs": [
        {
          "output_type": "stream",
          "text": [
            "Fitting 2 folds for each of 1 candidates, totalling 2 fits\n"
          ],
          "name": "stdout"
        },
        {
          "output_type": "stream",
          "text": [
            "[Parallel(n_jobs=-1)]: Using backend LokyBackend with 2 concurrent workers.\n",
            "[Parallel(n_jobs=-1)]: Done   2 out of   2 | elapsed: 88.3min remaining:    0.0s\n",
            "[Parallel(n_jobs=-1)]: Done   2 out of   2 | elapsed: 88.3min finished\n"
          ],
          "name": "stderr"
        }
      ]
    },
    {
      "cell_type": "code",
      "metadata": {
        "colab": {
          "base_uri": "https://localhost:8080/"
        },
        "id": "mV__nKtywfkJ",
        "outputId": "e8addd2c-5f64-4481-f52c-65b410f3322f"
      },
      "source": [
        "model= XGBClassifier()\r\n",
        "params = {\r\n",
        "    \"learning_rate\" :[0.1],\r\n",
        "    \"max_depth\" : [5],\r\n",
        "    \"n_estimators\" : [2000]\r\n",
        "}\r\n",
        "\r\n",
        "modelf = GridSearchCV(model,params, cv=2, scoring=\"accuracy\", n_jobs= -1, verbose = 1)\r\n",
        "\r\n",
        "z= modelf.fit(trainx,trainy)\r\n",
        "output=z.predict_proba(pred[trainx.columns])"
      ],
      "execution_count": null,
      "outputs": [
        {
          "output_type": "stream",
          "text": [
            "Fitting 2 folds for each of 1 candidates, totalling 2 fits\n"
          ],
          "name": "stdout"
        },
        {
          "output_type": "stream",
          "text": [
            "[Parallel(n_jobs=-1)]: Using backend LokyBackend with 2 concurrent workers.\n",
            "[Parallel(n_jobs=-1)]: Done   2 out of   2 | elapsed: 34.6min remaining:    0.0s\n",
            "[Parallel(n_jobs=-1)]: Done   2 out of   2 | elapsed: 34.6min finished\n"
          ],
          "name": "stderr"
        }
      ]
    },
    {
      "cell_type": "code",
      "metadata": {
        "colab": {
          "base_uri": "https://localhost:8080/"
        },
        "id": "NEzDT7xvaKsh",
        "outputId": "6c342746-50d5-4679-f643-5dc7961d0664"
      },
      "source": [
        "z.best_params_"
      ],
      "execution_count": null,
      "outputs": [
        {
          "output_type": "execute_result",
          "data": {
            "text/plain": [
              "{'learning_rate': 0.1, 'max_depth': 5, 'n_estimators': 100}"
            ]
          },
          "metadata": {
            "tags": []
          },
          "execution_count": 18
        }
      ]
    },
    {
      "cell_type": "code",
      "metadata": {
        "id": "EHLrjdsbTnwo"
      },
      "source": [
        "output=z.predict_proba(pred[trainx.columns])"
      ],
      "execution_count": null,
      "outputs": []
    },
    {
      "cell_type": "markdown",
      "metadata": {
        "id": "AidZjW8uLdUX"
      },
      "source": [
        "*** M1: 0.1, 1000, dep 5 85.151; M2: 0.1 dep 5 1000 est 84.6 ***"
      ]
    },
    {
      "cell_type": "code",
      "metadata": {
        "id": "hPg3FBI7yn7q"
      },
      "source": [
        "encounterid= predict['encounter_id']\r\n",
        "\r\n",
        "out= pd.DataFrame({\r\n",
        "    'encounter_id' : encounterid.tolist(),\r\n",
        "    'diabetes_mellitus' : output[:,1].tolist()\r\n",
        "    \r\n",
        "})\r\n",
        "out.sort_values('encounter_id', ascending=True,inplace=True)"
      ],
      "execution_count": null,
      "outputs": []
    },
    {
      "cell_type": "code",
      "metadata": {
        "colab": {
          "base_uri": "https://localhost:8080/",
          "height": 17
        },
        "id": "C3z1v8LXzyZ0",
        "outputId": "ef5deb99-4efa-46fb-b448-83682115d67b"
      },
      "source": [
        "from google.colab import files\r\n",
        "out.to_csv('1kest.csv',index=False)\r\n",
        "files.download('1kest.csv')"
      ],
      "execution_count": null,
      "outputs": [
        {
          "output_type": "display_data",
          "data": {
            "application/javascript": [
              "\n",
              "    async function download(id, filename, size) {\n",
              "      if (!google.colab.kernel.accessAllowed) {\n",
              "        return;\n",
              "      }\n",
              "      const div = document.createElement('div');\n",
              "      const label = document.createElement('label');\n",
              "      label.textContent = `Downloading \"${filename}\": `;\n",
              "      div.appendChild(label);\n",
              "      const progress = document.createElement('progress');\n",
              "      progress.max = size;\n",
              "      div.appendChild(progress);\n",
              "      document.body.appendChild(div);\n",
              "\n",
              "      const buffers = [];\n",
              "      let downloaded = 0;\n",
              "\n",
              "      const channel = await google.colab.kernel.comms.open(id);\n",
              "      // Send a message to notify the kernel that we're ready.\n",
              "      channel.send({})\n",
              "\n",
              "      for await (const message of channel.messages) {\n",
              "        // Send a message to notify the kernel that we're ready.\n",
              "        channel.send({})\n",
              "        if (message.buffers) {\n",
              "          for (const buffer of message.buffers) {\n",
              "            buffers.push(buffer);\n",
              "            downloaded += buffer.byteLength;\n",
              "            progress.value = downloaded;\n",
              "          }\n",
              "        }\n",
              "      }\n",
              "      const blob = new Blob(buffers, {type: 'application/binary'});\n",
              "      const a = document.createElement('a');\n",
              "      a.href = window.URL.createObjectURL(blob);\n",
              "      a.download = filename;\n",
              "      div.appendChild(a);\n",
              "      a.click();\n",
              "      div.remove();\n",
              "    }\n",
              "  "
            ],
            "text/plain": [
              "<IPython.core.display.Javascript object>"
            ]
          },
          "metadata": {
            "tags": []
          }
        },
        {
          "output_type": "display_data",
          "data": {
            "application/javascript": [
              "download(\"download_cdc68730-aae2-444e-a984-5ca296f8b60e\", \"1kest.csv\", 276780)"
            ],
            "text/plain": [
              "<IPython.core.display.Javascript object>"
            ]
          },
          "metadata": {
            "tags": []
          }
        }
      ]
    },
    {
      "cell_type": "code",
      "metadata": {
        "id": "dZtpKD2k0Ss1"
      },
      "source": [
        ""
      ],
      "execution_count": null,
      "outputs": []
    }
  ]
}